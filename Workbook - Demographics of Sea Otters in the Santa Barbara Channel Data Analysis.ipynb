{
 "cells": [
  {
   "cell_type": "markdown",
   "metadata": {},
   "source": [
    "## Demographics of Sea Otters in the Santa Barbara Channel\n",
    "\n",
    "![](https://prd-wret.s3-us-west-2.amazonaws.com/assets/palladium/production/s3fs-public/styles/side_image/public/thumbnails/image/Sea_Otter_mom_and_pup_MG_3407.jpg)\n",
    "\n",
    "Source: https://www.sciencebase.gov/catalog/item/585c5ac9e4b01224f329bc0a"
   ]
  },
  {
   "cell_type": "code",
   "execution_count": 1,
   "metadata": {},
   "outputs": [],
   "source": [
    "import pandas as pd"
   ]
  },
  {
   "cell_type": "code",
   "execution_count": 2,
   "metadata": {},
   "outputs": [
    {
     "data": {
      "text/html": [
       "<div>\n",
       "<style scoped>\n",
       "    .dataframe tbody tr th:only-of-type {\n",
       "        vertical-align: middle;\n",
       "    }\n",
       "\n",
       "    .dataframe tbody tr th {\n",
       "        vertical-align: top;\n",
       "    }\n",
       "\n",
       "    .dataframe thead th {\n",
       "        text-align: right;\n",
       "    }\n",
       "</style>\n",
       "<table border=\"1\" class=\"dataframe\">\n",
       "  <thead>\n",
       "    <tr style=\"text-align: right;\">\n",
       "      <th></th>\n",
       "      <th>Otter Number</th>\n",
       "      <th>Capture Date</th>\n",
       "      <th>General Location</th>\n",
       "      <th>Capture Latitude</th>\n",
       "      <th>Capture Longitude</th>\n",
       "      <th>Sex</th>\n",
       "      <th>Age Class</th>\n",
       "      <th>Weight (kg)</th>\n",
       "      <th>Length (cm)</th>\n",
       "      <th>Age</th>\n",
       "      <th>Recapture Date 1</th>\n",
       "      <th>Recapture Date 2</th>\n",
       "      <th>Last Seen Date</th>\n",
       "      <th>Outcome</th>\n",
       "      <th>Pup Birth 1</th>\n",
       "      <th>Pup 1 Outcome</th>\n",
       "      <th>Pup Birth 2</th>\n",
       "      <th>Pup 2 Outcome</th>\n",
       "      <th>Pup Birth 3</th>\n",
       "      <th>Pup 3 Outcome</th>\n",
       "    </tr>\n",
       "  </thead>\n",
       "  <tbody>\n",
       "    <tr>\n",
       "      <td>0</td>\n",
       "      <td>N-1460-12-S</td>\n",
       "      <td>5-Mar-12</td>\n",
       "      <td>Hollister Ranch</td>\n",
       "      <td>34?26.971</td>\n",
       "      <td>120?21.847</td>\n",
       "      <td>m</td>\n",
       "      <td>a</td>\n",
       "      <td>23.0</td>\n",
       "      <td>128.1</td>\n",
       "      <td>9.5</td>\n",
       "      <td>NaN</td>\n",
       "      <td>NaN</td>\n",
       "      <td>23-Jun-14</td>\n",
       "      <td>Survived</td>\n",
       "      <td>NaN</td>\n",
       "      <td>NaN</td>\n",
       "      <td>NaN</td>\n",
       "      <td>NaN</td>\n",
       "      <td>NaN</td>\n",
       "      <td>NaN</td>\n",
       "    </tr>\n",
       "    <tr>\n",
       "      <td>1</td>\n",
       "      <td>N-1461-12-S</td>\n",
       "      <td>5-Mar-12</td>\n",
       "      <td>Cojo Cove</td>\n",
       "      <td>34?26.626</td>\n",
       "      <td>120?24.173</td>\n",
       "      <td>f</td>\n",
       "      <td>a</td>\n",
       "      <td>23.0</td>\n",
       "      <td>110.5</td>\n",
       "      <td>3.5</td>\n",
       "      <td>NaN</td>\n",
       "      <td>NaN</td>\n",
       "      <td>16-Mar-14</td>\n",
       "      <td>Survived</td>\n",
       "      <td>14-Dec-12</td>\n",
       "      <td>Suspected Dead</td>\n",
       "      <td>10-Nov-13</td>\n",
       "      <td>Survived</td>\n",
       "      <td>NaN</td>\n",
       "      <td>NaN</td>\n",
       "    </tr>\n",
       "    <tr>\n",
       "      <td>2</td>\n",
       "      <td>N-1462-12-S</td>\n",
       "      <td>5-Mar-12</td>\n",
       "      <td>Cojo Cove</td>\n",
       "      <td>34?26.575</td>\n",
       "      <td>120?24.757</td>\n",
       "      <td>f</td>\n",
       "      <td>a</td>\n",
       "      <td>23.3</td>\n",
       "      <td>121.4</td>\n",
       "      <td>3.0</td>\n",
       "      <td>NaN</td>\n",
       "      <td>NaN</td>\n",
       "      <td>24-Jun-14</td>\n",
       "      <td>Survived</td>\n",
       "      <td>30-Apr-12</td>\n",
       "      <td>Survived</td>\n",
       "      <td>23-Feb-13</td>\n",
       "      <td>Survived</td>\n",
       "      <td>6-Feb-14</td>\n",
       "      <td>Unknown</td>\n",
       "    </tr>\n",
       "    <tr>\n",
       "      <td>3</td>\n",
       "      <td>N-1463-12-S</td>\n",
       "      <td>5-Mar-12</td>\n",
       "      <td>Cojo Cove</td>\n",
       "      <td>34?26.575</td>\n",
       "      <td>120?24.757</td>\n",
       "      <td>f</td>\n",
       "      <td>a</td>\n",
       "      <td>22.7</td>\n",
       "      <td>115.4</td>\n",
       "      <td>4.5</td>\n",
       "      <td>NaN</td>\n",
       "      <td>NaN</td>\n",
       "      <td>20-Jun-14</td>\n",
       "      <td>Survived</td>\n",
       "      <td>16-Jun-13</td>\n",
       "      <td>Survived</td>\n",
       "      <td>12-May-14</td>\n",
       "      <td>Unknown</td>\n",
       "      <td>NaN</td>\n",
       "      <td>NaN</td>\n",
       "    </tr>\n",
       "    <tr>\n",
       "      <td>4</td>\n",
       "      <td>N-1464-12-S</td>\n",
       "      <td>5-Mar-12</td>\n",
       "      <td>Cojo Cove</td>\n",
       "      <td>34?26.988</td>\n",
       "      <td>120?21.629</td>\n",
       "      <td>m</td>\n",
       "      <td>a</td>\n",
       "      <td>29.0</td>\n",
       "      <td>124.0</td>\n",
       "      <td>6.0</td>\n",
       "      <td>NaN</td>\n",
       "      <td>NaN</td>\n",
       "      <td>8-Feb-14</td>\n",
       "      <td>Suspected Dead</td>\n",
       "      <td>NaN</td>\n",
       "      <td>NaN</td>\n",
       "      <td>NaN</td>\n",
       "      <td>NaN</td>\n",
       "      <td>NaN</td>\n",
       "      <td>NaN</td>\n",
       "    </tr>\n",
       "  </tbody>\n",
       "</table>\n",
       "</div>"
      ],
      "text/plain": [
       "  Otter Number Capture Date General Location Capture Latitude  \\\n",
       "0  N-1460-12-S     5-Mar-12  Hollister Ranch        34?26.971   \n",
       "1  N-1461-12-S     5-Mar-12        Cojo Cove        34?26.626   \n",
       "2  N-1462-12-S     5-Mar-12        Cojo Cove        34?26.575   \n",
       "3  N-1463-12-S     5-Mar-12        Cojo Cove        34?26.575   \n",
       "4  N-1464-12-S     5-Mar-12        Cojo Cove        34?26.988   \n",
       "\n",
       "  Capture Longitude Sex Age Class  Weight (kg)  Length (cm)  Age  \\\n",
       "0        120?21.847   m         a         23.0        128.1  9.5   \n",
       "1        120?24.173   f         a         23.0        110.5  3.5   \n",
       "2        120?24.757   f         a         23.3        121.4  3.0   \n",
       "3        120?24.757   f         a         22.7        115.4  4.5   \n",
       "4        120?21.629   m         a         29.0        124.0  6.0   \n",
       "\n",
       "  Recapture Date 1 Recapture Date 2 Last Seen Date         Outcome  \\\n",
       "0              NaN              NaN      23-Jun-14        Survived   \n",
       "1              NaN              NaN      16-Mar-14        Survived   \n",
       "2              NaN              NaN      24-Jun-14        Survived   \n",
       "3              NaN              NaN      20-Jun-14        Survived   \n",
       "4              NaN              NaN       8-Feb-14  Suspected Dead   \n",
       "\n",
       "  Pup Birth 1   Pup 1 Outcome Pup Birth 2 Pup 2 Outcome Pup Birth 3  \\\n",
       "0         NaN             NaN         NaN           NaN         NaN   \n",
       "1   14-Dec-12  Suspected Dead   10-Nov-13      Survived         NaN   \n",
       "2   30-Apr-12        Survived   23-Feb-13      Survived    6-Feb-14   \n",
       "3   16-Jun-13        Survived   12-May-14       Unknown         NaN   \n",
       "4         NaN             NaN         NaN           NaN         NaN   \n",
       "\n",
       "  Pup 3 Outcome  \n",
       "0           NaN  \n",
       "1           NaN  \n",
       "2       Unknown  \n",
       "3           NaN  \n",
       "4           NaN  "
      ]
     },
     "execution_count": 2,
     "metadata": {},
     "output_type": "execute_result"
    }
   ],
   "source": [
    "raw_sea_otter_df = pd.read_csv('https://www.sciencebase.gov/catalog/file/get/585c5ac9e4b01224f329bc0a?f=__disk__22%2Ffe%2Fd8%2F22fed85e6822cf2a4117cb6b740bb6c2ae648773')\n",
    "raw_sea_otter_df.head(5)"
   ]
  },
  {
   "cell_type": "markdown",
   "metadata": {},
   "source": [
    "#### Show general statistics about the dataset\n",
    "\n",
    "Don't worry about any transformations at this step."
   ]
  },
  {
   "cell_type": "code",
   "execution_count": null,
   "metadata": {},
   "outputs": [],
   "source": []
  },
  {
   "cell_type": "code",
   "execution_count": null,
   "metadata": {},
   "outputs": [],
   "source": []
  },
  {
   "cell_type": "markdown",
   "metadata": {},
   "source": [
    "#### How many rows and columns are in this dataset?"
   ]
  },
  {
   "cell_type": "code",
   "execution_count": null,
   "metadata": {},
   "outputs": [],
   "source": []
  },
  {
   "cell_type": "code",
   "execution_count": null,
   "metadata": {},
   "outputs": [],
   "source": []
  },
  {
   "cell_type": "markdown",
   "metadata": {},
   "source": [
    "#### Display the last 5 rows of data"
   ]
  },
  {
   "cell_type": "code",
   "execution_count": null,
   "metadata": {},
   "outputs": [],
   "source": []
  },
  {
   "cell_type": "markdown",
   "metadata": {},
   "source": [
    "#### How many sea otters are found in this dataset?\n",
    "\n",
    "Don't worry about the pups."
   ]
  },
  {
   "cell_type": "code",
   "execution_count": null,
   "metadata": {},
   "outputs": [],
   "source": []
  },
  {
   "cell_type": "markdown",
   "metadata": {},
   "source": [
    "#### What is the gender distribution?"
   ]
  },
  {
   "cell_type": "code",
   "execution_count": null,
   "metadata": {},
   "outputs": [],
   "source": []
  },
  {
   "cell_type": "markdown",
   "metadata": {},
   "source": [
    "#### What is the average age of the sea otters studied?"
   ]
  },
  {
   "cell_type": "code",
   "execution_count": null,
   "metadata": {},
   "outputs": [],
   "source": []
  },
  {
   "cell_type": "code",
   "execution_count": null,
   "metadata": {},
   "outputs": [],
   "source": []
  },
  {
   "cell_type": "markdown",
   "metadata": {},
   "source": [
    "#### Where are they normally found?"
   ]
  },
  {
   "cell_type": "code",
   "execution_count": null,
   "metadata": {},
   "outputs": [],
   "source": []
  },
  {
   "cell_type": "markdown",
   "metadata": {},
   "source": [
    "#### Display the heaviest weight and lowest weight"
   ]
  },
  {
   "cell_type": "code",
   "execution_count": null,
   "metadata": {},
   "outputs": [],
   "source": []
  },
  {
   "cell_type": "code",
   "execution_count": null,
   "metadata": {},
   "outputs": [],
   "source": []
  },
  {
   "cell_type": "markdown",
   "metadata": {},
   "source": [
    "#### Which sea otters are alive?"
   ]
  },
  {
   "cell_type": "code",
   "execution_count": null,
   "metadata": {
    "scrolled": true
   },
   "outputs": [],
   "source": []
  },
  {
   "cell_type": "markdown",
   "metadata": {},
   "source": [
    "#### Which sea otters are alive and male"
   ]
  },
  {
   "cell_type": "code",
   "execution_count": null,
   "metadata": {},
   "outputs": [],
   "source": []
  },
  {
   "cell_type": "code",
   "execution_count": null,
   "metadata": {},
   "outputs": [],
   "source": []
  },
  {
   "cell_type": "markdown",
   "metadata": {},
   "source": [
    "#### How many otters were captured by year?"
   ]
  },
  {
   "cell_type": "code",
   "execution_count": null,
   "metadata": {},
   "outputs": [],
   "source": []
  },
  {
   "cell_type": "markdown",
   "metadata": {},
   "source": [
    "#### Sort the data by location"
   ]
  },
  {
   "cell_type": "code",
   "execution_count": null,
   "metadata": {},
   "outputs": [],
   "source": []
  }
 ],
 "metadata": {
  "kernelspec": {
   "display_name": "Python 3",
   "language": "python",
   "name": "python3"
  },
  "language_info": {
   "codemirror_mode": {
    "name": "ipython",
    "version": 3
   },
   "file_extension": ".py",
   "mimetype": "text/x-python",
   "name": "python",
   "nbconvert_exporter": "python",
   "pygments_lexer": "ipython3",
   "version": "3.7.4"
  }
 },
 "nbformat": 4,
 "nbformat_minor": 2
}
